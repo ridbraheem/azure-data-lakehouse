{
 "cells": [
  {
   "cell_type": "markdown",
   "metadata": {
    "application/vnd.databricks.v1+cell": {
     "cellMetadata": {
      "byteLimit": 2048000,
      "rowLimit": 10000
     },
     "inputWidgets": {},
     "nuid": "e776d07e-e918-4ced-a9d4-0dc401cbbb48",
     "showTitle": false,
     "title": ""
    }
   },
   "source": [
    "## Use Langchain and Open AI to interact with a Databricks Tables"
   ]
  },
  {
   "cell_type": "code",
   "execution_count": 0,
   "metadata": {
    "application/vnd.databricks.v1+cell": {
     "cellMetadata": {
      "byteLimit": 2048000,
      "rowLimit": 10000
     },
     "inputWidgets": {},
     "nuid": "84a6c09f-1d79-4764-854c-561df74780c6",
     "showTitle": false,
     "title": ""
    }
   },
   "outputs": [
    {
     "output_type": "stream",
     "name": "stderr",
     "output_type": "stream",
     "text": [
      "DatabricksRetryPolicy is currently bypassed. The CommandType cannot be set.\nDatabricksRetryPolicy is currently bypassed. The CommandType cannot be set.\nDatabricksRetryPolicy is currently bypassed. The CommandType cannot be set.\nDatabricksRetryPolicy is currently bypassed. The CommandType cannot be set.\nDatabricksRetryPolicy is currently bypassed. The CommandType cannot be set.\nDatabricksRetryPolicy is currently bypassed. The CommandType cannot be set.\nDatabricksRetryPolicy is currently bypassed. The CommandType cannot be set.\nDatabricksRetryPolicy is currently bypassed. The CommandType cannot be set.\n"
     ]
    }
   ],
   "source": [
    "\n",
    "#import necessary libraries \n",
    "\n",
    "import os\n",
    "from langchain.agents import create_sql_agent\n",
    "from langchain.agents.agent_toolkits import SQLDatabaseToolkit\n",
    "from langchain.sql_database import SQLDatabase\n",
    "from langchain import OpenAI\n",
    "\n",
    "\n",
    "\n",
    "os.environ[\"OPENAI_API_KEY\"] =\" \"\n",
    " \n",
    "#Connect to database and create agent\n",
    "\n",
    "db = SQLDatabase.from_databricks(catalog=\"dev_db\", schema=\"core\")\n",
    "llm = OpenAI(temperature=.7)\n",
    "toolkit = SQLDatabaseToolkit(db=db, llm=llm)\n",
    "agent = create_sql_agent(llm=llm, toolkit=toolkit, verbose=True)"
   ]
  },
  {
   "cell_type": "code",
   "execution_count": 0,
   "metadata": {
    "application/vnd.databricks.v1+cell": {
     "cellMetadata": {
      "byteLimit": 2048000,
      "rowLimit": 10000
     },
     "inputWidgets": {},
     "nuid": "e8fce15d-1322-423d-9049-90d122603423",
     "showTitle": false,
     "title": ""
    }
   },
   "outputs": [
    {
     "output_type": "stream",
     "name": "stdout",
     "output_type": "stream",
     "text": [
      "\n\n\u001B[1m> Entering new AgentExecutor chain...\u001B[0m\n\u001B[32;1m\u001B[1;3mAction: sql_db_list_tables\nAction Input: \"\"\u001B[0m\nObservation: \u001B[38;5;200m\u001B[1;3mactive_companies_information\u001B[0m\nThought:"
     ]
    },
    {
     "output_type": "stream",
     "name": "stderr",
     "output_type": "stream",
     "text": [
      "DatabricksRetryPolicy is currently bypassed. The CommandType cannot be set.\n"
     ]
    },
    {
     "output_type": "stream",
     "name": "stdout",
     "output_type": "stream",
     "text": [
      "\u001B[32;1m\u001B[1;3m I should query the schema of the active_companies_information table\nAction: sql_db_schema\nAction Input: \"active_companies_information\"\u001B[0m"
     ]
    },
    {
     "output_type": "stream",
     "name": "stderr",
     "output_type": "stream",
     "text": [
      "DatabricksRetryPolicy is currently bypassed. The CommandType cannot be set.\nDatabricksRetryPolicy is currently bypassed. The CommandType cannot be set.\nDatabricksRetryPolicy is currently bypassed. The CommandType cannot be set.\nDatabricksRetryPolicy is currently bypassed. The CommandType cannot be set.\nDatabricksRetryPolicy is currently bypassed. The CommandType cannot be set.\n"
     ]
    },
    {
     "output_type": "stream",
     "name": "stdout",
     "output_type": "stream",
     "text": [
      "\nObservation: \u001B[33;1m\u001B[1;3m\nCREATE TABLE active_companies_information (\n\torg_uuid STRING, \n\tname STRING, \n\torg_type STRING, \n\tcountry_code STRING, \n\thomepage_url STRING, \n\tstatus STRING, \n\tdescription STRING, \n\tinvestments STRING, \n\tcompany_information STRING\n) USING DELTA\n\n/*\n3 rows from active_companies_information table:\norg_uuid\tname\torg_type\tcountry_code\thomepage_url\tstatus\tdescription\tinvestments\tcompany_information\n8c57c3c2-e65b-e45b-c754-89dc9f85580a\tGaia Online\torganization\tUSA\thttps://www.gaiaonline.com/\toperating\tGaia Online has grown into one of the biggest forum communities in the world. Today, Gaia is the bes\tIVP investment in Series C - Gaia Online\tGaia Online has grown into one of the biggest forum communities in the world. Today, Gaia is the bes\n6d2fff57-32b5-f75c-9986-97539d1bf366\tViddler\torganization\tUSA\thttp://www.viddler.com\toperating\tViddler has a long history of innovation in online video, developing patented new approaches, and tr\t\tViddler has a long history of innovation in online video, developing patented new approaches, and tr\n0cf4f50a-b749-04be-589f-301dc97dc6b5\tMusic Intelligence Solutions\torganization\tUSA\thttps://uplaya.com\toperating\tMusic Intelligence Solutions, Inc.,is a ''smart'' music discovery player. MIS is a global digital me\t\tMusic Intelligence Solutions, Inc.,is a ''smart'' music discovery player. MIS is a global digital me\n*/\u001B[0m\nThought:"
     ]
    },
    {
     "output_type": "stream",
     "name": "stderr",
     "output_type": "stream",
     "text": [
      "DatabricksRetryPolicy is currently bypassed. The CommandType cannot be set.\n"
     ]
    },
    {
     "output_type": "stream",
     "name": "stdout",
     "output_type": "stream",
     "text": [
      "\u001B[32;1m\u001B[1;3m I should query the active_companies_information table for companies with an ipo status\nAction: sql_db_query\nAction Input: SELECT COUNT(*) FROM active_companies_information WHERE status='ipo';\u001B[0m\nObservation: \u001B[36;1m\u001B[1;3m[(41838,)]\u001B[0m\nThought:\u001B[32;1m\u001B[1;3m I now know the final answer\nFinal Answer: There are 41838 companies with an ipo status.\u001B[0m\n\n\u001B[1m> Finished chain.\u001B[0m\nOut[2]: 'There are 41838 companies with an ipo status.'"
     ]
    }
   ],
   "source": [
    "#Ask Questions in Simple english and see how the agent converts it to sql to respond\n",
    "\n",
    "agent.run(\"How many companies do we have with an ipo status\")"
   ]
  },
  {
   "cell_type": "code",
   "execution_count": 0,
   "metadata": {
    "application/vnd.databricks.v1+cell": {
     "cellMetadata": {
      "byteLimit": 2048000,
      "rowLimit": 10000
     },
     "inputWidgets": {},
     "nuid": "ccde8679-4fbd-4e0e-8aa2-fb6de55abf3e",
     "showTitle": false,
     "title": ""
    }
   },
   "outputs": [],
   "source": [
    "#Read table into dataframe\n",
    "\n",
    "df_companies_info = spark.read.table(\"dev_db.core.active_companies_information\")"
   ]
  },
  {
   "cell_type": "code",
   "execution_count": 0,
   "metadata": {
    "application/vnd.databricks.v1+cell": {
     "cellMetadata": {
      "byteLimit": 2048000,
      "rowLimit": 10000
     },
     "inputWidgets": {},
     "nuid": "e17eaf51-4297-4a7b-b3aa-f546f0970b59",
     "showTitle": false,
     "title": ""
    }
   },
   "outputs": [],
   "source": [
    "#Import necessary library\n",
    "\n",
    "import openai\n",
    "import tiktoken\n",
    "from pyspark.ml.linalg import *\n",
    "from pyspark.sql.types import * \n",
    "from pyspark.sql.functions import *\n",
    "from langchain.embeddings.openai import OpenAIEmbeddings"
   ]
  },
  {
   "cell_type": "code",
   "execution_count": 0,
   "metadata": {
    "application/vnd.databricks.v1+cell": {
     "cellMetadata": {
      "byteLimit": 2048000,
      "rowLimit": 10000
     },
     "inputWidgets": {},
     "nuid": "77a307d4-925a-43a1-ac58-271b85b4b5ce",
     "showTitle": false,
     "title": ""
    }
   },
   "outputs": [],
   "source": [
    "KEY=\" \""
   ]
  },
  {
   "cell_type": "code",
   "execution_count": 0,
   "metadata": {
    "application/vnd.databricks.v1+cell": {
     "cellMetadata": {
      "byteLimit": 2048000,
      "rowLimit": 10000
     },
     "inputWidgets": {},
     "nuid": "8ce7cd63-91ea-47ed-8653-d1fb53196b4b",
     "showTitle": false,
     "title": ""
    }
   },
   "outputs": [
    {
     "output_type": "stream",
     "name": "stdout",
     "output_type": "stream",
     "text": [
      "Out[6]: 2755555"
     ]
    }
   ],
   "source": [
    "df_companies_info.count()"
   ]
  },
  {
   "cell_type": "code",
   "execution_count": 0,
   "metadata": {
    "application/vnd.databricks.v1+cell": {
     "cellMetadata": {
      "byteLimit": 2048000,
      "rowLimit": 10000
     },
     "inputWidgets": {},
     "nuid": "56825b38-3e85-4660-a6ba-b2a60d482e94",
     "showTitle": false,
     "title": ""
    }
   },
   "outputs": [],
   "source": [
    "#Create function to get number of tokens from 'company_information' column  \n",
    "\n",
    "def num_tokens_from_string(string: str) -> int:\n",
    "    encoding = tiktoken.encoding_for_model(\"gpt-3.5-turbo\")\n",
    "    num_tokens = len(encoding.encode(string))\n",
    "    return num_tokens"
   ]
  },
  {
   "cell_type": "code",
   "execution_count": 0,
   "metadata": {
    "application/vnd.databricks.v1+cell": {
     "cellMetadata": {
      "byteLimit": 2048000,
      "rowLimit": 10000
     },
     "inputWidgets": {},
     "nuid": "a23d9e7e-a325-4427-a3a1-ecd3073cb502",
     "showTitle": false,
     "title": ""
    }
   },
   "outputs": [
    {
     "output_type": "stream",
     "name": "stdout",
     "output_type": "stream",
     "text": [
      "+--------------------+----------+\n| company_information|num_tokens|\n+--------------------+----------+\n|Gaia Online has g...|       118|\n|Viddler has a lon...|       197|\n|Music Intelligenc...|       173|\n|Ampersand is a mi...|        64|\n|Akampus is a yout...|       175|\n|Alibris (pronounc...|       169|\n|We're your NorCal...|        72|\n|AlphaClone is an ...|       156|\n|Profit Point Inc....|       154|\n|Info USA offers a...|       105|\n|Since 2009, VENYO...|       403|\n|Kenta Biotech is ...|       125|\n|Munich, Germany-b...|       341|\n|Stellaris is a we...|       178|\n|Enterprise Divers...|       151|\n|Continuity is a p...|       212|\n|Tweetminster is a...|       104|\n|Intelligent Clear...|       166|\n|Online Project Ma...|       119|\n|Reval is a SaaS-b...|       158|\n+--------------------+----------+\nonly showing top 20 rows\n\n"
     ]
    }
   ],
   "source": [
    "#Get tokens from 'company_information' column to see if there are values with large tokens\n",
    "\n",
    "tokenUDF = udf(lambda x:num_tokens_from_string(x)) \n",
    "df_with_token = df_companies_info.withColumn(\"num_tokens\", tokenUDF(col(\"company_information\")))\n",
    "df_with_token = df_with_token.withColumn(\"num_tokens\",col(\"num_tokens\").cast(\"int\"))\n",
    "df_with_token.select(col(\"company_information\"),col(\"num_tokens\")).show()"
   ]
  },
  {
   "cell_type": "code",
   "execution_count": 0,
   "metadata": {
    "application/vnd.databricks.v1+cell": {
     "cellMetadata": {
      "byteLimit": 2048000,
      "rowLimit": 10000
     },
     "inputWidgets": {},
     "nuid": "08ccebcd-7016-417d-ac31-b139fd2ba03a",
     "showTitle": false,
     "title": ""
    }
   },
   "outputs": [],
   "source": [
    "#Create Function to extract sectors using openAI and Langchain\n",
    "\n",
    "from langchain import PromptTemplate\n",
    "\n",
    "def extract_company_sectors(text):\n",
    "    resume_template = \"\"\"\n",
    "    Assuming this is a brief description of a company. Extract key information and respond with an array of sectors the company is in. Do not output anything except for the extracted information. Do not add any clarifying information.All output must be in array format below \n",
    "    []\n",
    "\n",
    "    {text}\n",
    "    \"\"\"\n",
    "\n",
    "    prompt = PromptTemplate(\n",
    "        input_variables=[\"text\"],\n",
    "        template=resume_template\n",
    "    )\n",
    "\n",
    "    summary_prompt = prompt.format(text=text)\n",
    "    summary = llm(summary_prompt)\n",
    "\n",
    "    return summary.strip()"
   ]
  },
  {
   "cell_type": "code",
   "execution_count": 0,
   "metadata": {
    "application/vnd.databricks.v1+cell": {
     "cellMetadata": {
      "byteLimit": 2048000,
      "rowLimit": 10000
     },
     "inputWidgets": {},
     "nuid": "6075f145-623e-4b06-80c7-5b47d433e849",
     "showTitle": false,
     "title": ""
    }
   },
   "outputs": [
    {
     "output_type": "stream",
     "name": "stdout",
     "output_type": "stream",
     "text": [
      "+--------------------+--------------------+--------------------+\n|            org_uuid|                name|             sectors|\n+--------------------+--------------------+--------------------+\n|8c57c3c2-e65b-e45...|         Gaia Online|['Forum Community...|\n|6d2fff57-32b5-f75...|             Viddler|['Online Video', ...|\n|0cf4f50a-b749-04b...|Music Intelligenc...|[\"Digital Media\",...|\n|6580c555-b205-021...|Ampersand Capital...|['Healthcare', 'I...|\n|5f932f59-dcec-0fa...|             Akampus|['Youth Marketing...|\n|8d71fc18-7185-5f3...|             Alibris|[\"Books\", \"Music\"...|\n|fb70402d-641d-97b...|                KQED|[\"Media\", \"Public...|\n|bbf2555d-6b35-210...|          AlphaClone|[\"Investment Advi...|\n|e95920a2-4124-862...|        Profit Point|['Infrastructure ...|\n|37814cee-be4c-3c6...|             InfoUSA|['Sales and Marke...|\n|8f259024-34d5-0a2...|               Venyo|['Aviation', 'Tra...|\n|646e87fd-ecf8-896...|       Kenta Biotech|[\"Biotechnology\",...|\n|4d473e5b-b6e9-146...|        Silicon Line|[\"Consumer Electr...|\n|ced580b4-d528-fa8...|           Stellaris|['Solar Technolog...|\n|5c3f751b-44b5-739...|Enterprise Divers...|['Internet Soluti...|\n|463eee3a-c094-22d...|          Continuity|[\"RegTech\", \"Clou...|\n|a1f4510e-4e49-7ce...|        Tweetminster|[\"Politics\", \"New...|\n|821a2843-7d44-590...|Intelligent Clear...|[\"Software-as-a-S...|\n|18ab38ec-e2a4-8ed...|  ProjectManager.com|[\"Project Managem...|\n|87c9d66d-5590-6e1...|           Reval.com|[\"Financial Servi...|\n+--------------------+--------------------+--------------------+\nonly showing top 20 rows\n\n"
     ]
    },
    {
     "output_type": "display_data",
     "data": {
      "text/plain": [
       "\u001B[0;31m---------------------------------------------------------------------------\u001B[0m\n",
       "\u001B[0;31mAttributeError\u001B[0m                            Traceback (most recent call last)\n",
       "File \u001B[0;32m<command-2147251658851979>:12\u001B[0m\n",
       "\u001B[1;32m      6\u001B[0m df_with_sectors \u001B[38;5;241m=\u001B[39m df_with_token\u001B[38;5;241m.\u001B[39mwithColumn(\n",
       "\u001B[1;32m      7\u001B[0m     \u001B[38;5;124m\"\u001B[39m\u001B[38;5;124msectors\u001B[39m\u001B[38;5;124m\"\u001B[39m, sectorUDF(df_with_token[\u001B[38;5;124m\"\u001B[39m\u001B[38;5;124mcompany_information\u001B[39m\u001B[38;5;124m\"\u001B[39m])\n",
       "\u001B[1;32m      8\u001B[0m )\n",
       "\u001B[1;32m     10\u001B[0m df_with_sectors \u001B[38;5;241m=\u001B[39m df_with_sectors\u001B[38;5;241m.\u001B[39mselect(col(\u001B[38;5;124m\"\u001B[39m\u001B[38;5;124morg_uuid\u001B[39m\u001B[38;5;124m\"\u001B[39m),col(\u001B[38;5;124m\"\u001B[39m\u001B[38;5;124mname\u001B[39m\u001B[38;5;124m\"\u001B[39m), col(\u001B[38;5;124m\"\u001B[39m\u001B[38;5;124msectors\u001B[39m\u001B[38;5;124m\"\u001B[39m))\u001B[38;5;241m.\u001B[39mshow()\n",
       "\u001B[0;32m---> 12\u001B[0m df_with_sectors\u001B[38;5;241m.\u001B[39mshow()\n",
       "\n",
       "\u001B[0;31mAttributeError\u001B[0m: 'NoneType' object has no attribute 'show'"
      ]
     },
     "metadata": {
      "application/vnd.databricks.v1+output": {
       "arguments": {},
       "data": "\u001B[0;31m---------------------------------------------------------------------------\u001B[0m\n\u001B[0;31mAttributeError\u001B[0m                            Traceback (most recent call last)\nFile \u001B[0;32m<command-2147251658851979>:12\u001B[0m\n\u001B[1;32m      6\u001B[0m df_with_sectors \u001B[38;5;241m=\u001B[39m df_with_token\u001B[38;5;241m.\u001B[39mwithColumn(\n\u001B[1;32m      7\u001B[0m     \u001B[38;5;124m\"\u001B[39m\u001B[38;5;124msectors\u001B[39m\u001B[38;5;124m\"\u001B[39m, sectorUDF(df_with_token[\u001B[38;5;124m\"\u001B[39m\u001B[38;5;124mcompany_information\u001B[39m\u001B[38;5;124m\"\u001B[39m])\n\u001B[1;32m      8\u001B[0m )\n\u001B[1;32m     10\u001B[0m df_with_sectors \u001B[38;5;241m=\u001B[39m df_with_sectors\u001B[38;5;241m.\u001B[39mselect(col(\u001B[38;5;124m\"\u001B[39m\u001B[38;5;124morg_uuid\u001B[39m\u001B[38;5;124m\"\u001B[39m),col(\u001B[38;5;124m\"\u001B[39m\u001B[38;5;124mname\u001B[39m\u001B[38;5;124m\"\u001B[39m), col(\u001B[38;5;124m\"\u001B[39m\u001B[38;5;124msectors\u001B[39m\u001B[38;5;124m\"\u001B[39m))\u001B[38;5;241m.\u001B[39mshow()\n\u001B[0;32m---> 12\u001B[0m df_with_sectors\u001B[38;5;241m.\u001B[39mshow()\n\n\u001B[0;31mAttributeError\u001B[0m: 'NoneType' object has no attribute 'show'",
       "errorSummary": "<span class='ansi-red-fg'>AttributeError</span>: 'NoneType' object has no attribute 'show'",
       "errorTraceType": "ansi",
       "metadata": {},
       "type": "ipynbError"
      }
     },
     "output_type": "display_data"
    }
   ],
   "source": [
    "# Register sectors function\n",
    "sectorUDF = udf(extract_company_sectors, StringType())\n",
    "\n",
    "\n",
    "#Get sectors and create column called \"sectors\"\n",
    "df_with_sectors = df_with_token.withColumn(\n",
    "    \"sectors\", sectorUDF(df_with_token[\"company_information\"])\n",
    ")\n",
    "\n",
    "df_with_sectors = df_with_sectors.select(col(\"org_uuid\"),col(\"name\"), col(\"sectors\")).show()\n",
    "\n",
    "df_with_sectors.show()"
   ]
  }
 ],
 "metadata": {
  "application/vnd.databricks.v1+notebook": {
   "dashboards": [],
   "language": "python",
   "notebookMetadata": {
    "pythonIndentUnit": 4
   },
   "notebookName": "langchain_work",
   "widgets": {}
  }
 },
 "nbformat": 4,
 "nbformat_minor": 0
}
