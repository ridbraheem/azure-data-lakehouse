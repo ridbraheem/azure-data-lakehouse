{
 "cells": [
  {
   "cell_type": "markdown",
   "metadata": {
    "application/vnd.databricks.v1+cell": {
     "cellMetadata": {},
     "inputWidgets": {},
     "nuid": "db42329a-c3ec-4471-9712-f875b5952f1d",
     "showTitle": false,
     "title": ""
    }
   },
   "source": [
    "##### This notebook contains the code used to create raw tables as external tables"
   ]
  },
  {
   "cell_type": "code",
   "execution_count": 0,
   "metadata": {
    "application/vnd.databricks.v1+cell": {
     "cellMetadata": {
      "byteLimit": 2048000,
      "rowLimit": 10000
     },
     "inputWidgets": {},
     "nuid": "ca86e456-13be-4eba-838f-51e9d22e71ad",
     "showTitle": false,
     "title": ""
    }
   },
   "outputs": [
    {
     "output_type": "stream",
     "name": "stdout",
     "output_type": "stream",
     "text": [
      "Out[2]: 'category_groups.csv'"
     ]
    }
   ],
   "source": [
    "#import necessay libraries\n",
    "\n",
    "import re\n",
    "dbutils.fs.ls('abfss://raw@crunchbaseldatalake.dfs.core.windows.net/')\n",
    "\n",
    "#Get the list of files from our raw container\n",
    "file_list = []\n",
    "for file in dbutils.fs.ls('abfss://raw@crunchbaseldatalake.dfs.core.windows.net/'):\n",
    "    file_name = file.name\n",
    "    table_name = re.search(r'([^/\\\\]+)\\.csv$', file_name)\n",
    "    table_name = table_name.group(1)\n",
    "    file_list.append((file_name, table_name))\n",
    "\n",
    "file_list"
   ]
  },
  {
   "cell_type": "code",
   "execution_count": 0,
   "metadata": {
    "application/vnd.databricks.v1+cell": {
     "cellMetadata": {
      "byteLimit": 2048000,
      "rowLimit": 10000
     },
     "inputWidgets": {},
     "nuid": "1697d62c-96e2-4376-a12e-2fd47d98e668",
     "showTitle": false,
     "title": ""
    }
   },
   "outputs": [],
   "source": [
    "\n",
    "#Create raw external tables from the list of tables \n",
    "\n",
    "for items in file_list:\n",
    "    statement = f'''\n",
    "        CREATE TABLE dev_db.raw.{items[1]}\n",
    "        USING CSV\n",
    "        OPTIONS (header \"true\", inferSchema \"true\")\n",
    "        LOCATION 'abfss://raw@crunchbaseldatalake.dfs.core.windows.net/{items[0]}'\n",
    "    '''\n",
    "    spark.sql(statement)"
   ]
  }
 ],
 "metadata": {
  "application/vnd.databricks.v1+notebook": {
   "dashboards": [],
   "language": "python",
   "notebookMetadata": {
    "mostRecentlyExecutedCommandWithImplicitDF": {
     "commandId": 795743394105786,
     "dataframes": [
      "_sqldf"
     ]
    },
    "pythonIndentUnit": 4
   },
   "notebookName": "create_external_raw_tables",
   "widgets": {}
  }
 },
 "nbformat": 4,
 "nbformat_minor": 0
}
